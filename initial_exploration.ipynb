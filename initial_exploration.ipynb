{
 "cells": [
  {
   "cell_type": "markdown",
   "metadata": {},
   "source": [
    "## Imports"
   ]
  },
  {
   "cell_type": "code",
   "execution_count": 1,
   "metadata": {},
   "outputs": [],
   "source": [
    "from make_data import participant, document, segment, load_participants_json, save_participants_json"
   ]
  },
  {
   "cell_type": "markdown",
   "metadata": {},
   "source": [
    "## Loading Data"
   ]
  },
  {
   "cell_type": "code",
   "execution_count": 2,
   "metadata": {},
   "outputs": [],
   "source": [
    "participants = load_participants_json()"
   ]
  },
  {
   "cell_type": "markdown",
   "metadata": {},
   "source": [
    "## Initial Exploration"
   ]
  },
  {
   "cell_type": "code",
   "execution_count": 4,
   "metadata": {},
   "outputs": [
    {
     "data": {
      "text/plain": [
       "Type: PARTICIPANT   ID: P1001   SI_hx: 0   SI_3mo: -1   SI_6mo: -1\n",
       "OK hm OK imagine a future negative event… OK he negative event could be a huge f ...\n",
       "Oh alright, including, OK. Wait what? I think with all of these. Um I’m confused ..."
      ]
     },
     "execution_count": 4,
     "metadata": {},
     "output_type": "execute_result"
    }
   ],
   "source": [
    "sample_participant = participants[0]\n",
    "sample_participant"
   ]
  },
  {
   "cell_type": "code",
   "execution_count": 6,
   "metadata": {},
   "outputs": [
    {
     "name": "stdout",
     "output_type": "stream",
     "text": [
      "PARTICIPANT\n",
      "Word Count: 383\t   Segment Count: 66   Document Count: 2\n",
      "\n",
      "                    Primaries: internal:24\texternal:7\tother:35\n",
      " Secondaries: event:8\tplace:3\ttime:4\temotion:1\tperceptual:8\n",
      "\n"
     ]
    }
   ],
   "source": [
    "sample_participant.print_logistics()"
   ]
  },
  {
   "cell_type": "code",
   "execution_count": 9,
   "metadata": {},
   "outputs": [
    {
     "data": {
      "text/plain": [
       "[ OK hm OK imagine a future negative event… OK (other)() ,\n",
       "  he negative event could be a huge family disagreement (internal)(event) ,\n",
       "  between basically everyone (internal)(event) ,\n",
       "  on my birthday (internal)(time) ,\n",
       "  like say on my 19th (internal)(time) ,\n",
       "  or 20th birthday (internal)(time) ,\n",
       "  because the first thing is an argument with my aunt, (internal)(event) ,\n",
       "  the second one is an argument between my brother and sister, (external)() ,\n",
       "  so I guess that could just turn into a big argument with everyone (internal)(event) ,\n",
       "  And then the third option was my 15th birthday (other)() ,\n",
       "  so I guess if my whole family is having an argument on my birthday that would be very sad. (internal)(emotion) ,\n",
       "  That’d be a sad day (other)() ,\n",
       "  Um I would hear screaming (internal)(perceptual) ,\n",
       "  shouting (other)() ,\n",
       "  Um I would see people just riling up, I guess (internal)(perceptual) ,\n",
       "  Um uh I wouldn’t taste anything in particular (external)() ,\n",
       "  or smell anything in particular (external)() ,\n",
       "  Um I wouldn’t feel anything, like physically feel anything (external)() ,\n",
       "  Um yup (other)() ,\n",
       "  Um no not really (other)() ,\n",
       "  I (other)() ,\n",
       "  don’t think it matters where it happens (other)() ,\n",
       "  | just the fact that everyone is fighting is just not good, I guess. (other)() ,\n",
       "  I said that already. Should I say, repeat it? (other)() ,\n",
       "  Oh I already said it, so I don’t know (other)() ]"
      ]
     },
     "execution_count": 9,
     "metadata": {},
     "output_type": "execute_result"
    }
   ],
   "source": [
    "sample_participant.docsList[0].segmentsList"
   ]
  },
  {
   "cell_type": "code",
   "execution_count": null,
   "metadata": {},
   "outputs": [],
   "source": []
  }
 ],
 "metadata": {
  "kernelspec": {
   "display_name": "Python 3",
   "language": "python",
   "name": "python3"
  },
  "language_info": {
   "codemirror_mode": {
    "name": "ipython",
    "version": 3
   },
   "file_extension": ".py",
   "mimetype": "text/x-python",
   "name": "python",
   "nbconvert_exporter": "python",
   "pygments_lexer": "ipython3",
   "version": "3.7.2"
  }
 },
 "nbformat": 4,
 "nbformat_minor": 2
}
